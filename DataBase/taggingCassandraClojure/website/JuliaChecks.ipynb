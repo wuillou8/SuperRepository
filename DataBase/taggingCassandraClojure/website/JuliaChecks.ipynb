{
 "cells": [
  {
   "cell_type": "code",
   "execution_count": 2,
   "metadata": {
    "collapsed": false
   },
   "outputs": [
    {
     "name": "stderr",
     "output_type": "stream",
     "text": [
      "INFO: Nothing to be done\n",
      "INFO: METADATA is out-of-date — you may not have the latest version of Requests\n",
      "INFO: Use `Pkg.update()` to get the latest versions of your packages\n"
     ]
    },
    {
     "ename": "LoadError",
     "evalue": "Unknown value\nLine: 0\nAround: ...GIF89a\u0001\u0000\u0001\u0000��\u0000\u0000,\u0000...\n           ^\n\nwhile loading In[2], in expression starting on line 13",
     "output_type": "error",
     "traceback": [
      "Unknown value\nLine: 0\nAround: ...GIF89a\u0001\u0000\u0001\u0000��\u0000\u0000,\u0000...\n           ^\n\nwhile loading In[2], in expression starting on line 13",
      "",
      " in error at error.jl:21",
      " in _error at /Users/jairwuiloud/.julia/v0.3/JSON/src/Parser.jl:71",
      " in parse_value at /Users/jairwuiloud/.julia/v0.3/JSON/src/Parser.jl:237",
      " in parse at /Users/jairwuiloud/.julia/v0.3/JSON/src/Parser.jl:328"
     ]
    }
   ],
   "source": [
    "#Importing Requests package\n",
    "Pkg.add(\"Requests\")\n",
    "using Requests.get;\n",
    "\n",
    "import JSON;\n",
    "\n",
    "url = \"https://ssl.google-analytics.com/__utm.gif?utmwv=5.6.4&utms=31&utmn=498674438&utmhn=salty-retreat-4888.herokuapp.com&utmt=event&utme=5(link*click*test)&utmcs=UTF-8&utmsr=1440x900&utmvp=1318x689&utmsc=24-bit&utmul=en-us&utmje=1&utmfl=17.0%20r0&utmdt=Hello%20World&utmhid=2108250189&utmr=-&utmp=%2F&utmht=1434122410029&utmac=UA-63941181-1&utmcc=__utma%3D116456068.340550294.1433934831.1433935132.1434008713.3%3B%2B__utmz%3D116456068.1433934831.1.1.utmcsr%3D(direct)%7Cutmccn%3D(direct)%7Cutmcmd%3D(none)%3B&utmjid=&utmu=6AAAAAAAAAAAAAAAAAAAAAAE~\"\n",
    "#http://query.yahooapis.com/v1/public/yql?q=select%20DaysRange%20from%20yahoo.finance.quotes%20where%20symbol%20in%20%28%22EBAY%22%29%20&env=http://datatables.org/alltables.env&format=json\";\n",
    "\n",
    "#Reads the data from HTTP URL\n",
    "es = get(url);\n",
    "\n",
    "j = JSON.parse(es.data)\n",
    "\n",
    "\n",
    "#Prints the data from JSON\n",
    "print(j[\"query\"][\"results\"][\"quote\"])\n"
   ]
  },
  {
   "cell_type": "code",
   "execution_count": 3,
   "metadata": {
    "collapsed": false
   },
   "outputs": [
    {
     "data": {
      "text/plain": [
       "Dict{String,Any} with 1 entry:\n",
       "  \"query\" => [\"count\"=>1,\"created\"=>\"2015-06-12T17:05:40Z\",\"lang\"=>\"en-US\",\"res…"
      ]
     },
     "execution_count": 3,
     "metadata": {},
     "output_type": "execute_result"
    }
   ],
   "source": [
    "j"
   ]
  },
  {
   "cell_type": "code",
   "execution_count": 6,
   "metadata": {
    "collapsed": false
   },
   "outputs": [
    {
     "data": {
      "text/plain": [
       "KeyIterator for a Dict{String,Any} with 1 entry. Keys:\n",
       "  \"query\""
      ]
     },
     "execution_count": 6,
     "metadata": {},
     "output_type": "execute_result"
    }
   ],
   "source": [
    "j |> keys"
   ]
  },
  {
   "cell_type": "code",
   "execution_count": 9,
   "metadata": {
    "collapsed": false
   },
   "outputs": [
    {
     "data": {
      "text/plain": [
       "ValueIterator for a Dict{String,Any} with 1 entry. Values:\n",
       "  [\"count\"=>1,\"created\"=>\"2015-06-12T17:05:40Z\",\"lang\"=>\"en-US\",\"results\"=>[\"qu…"
      ]
     },
     "execution_count": 9,
     "metadata": {},
     "output_type": "execute_result"
    }
   ],
   "source": [
    "va = j |> values "
   ]
  },
  {
   "cell_type": "code",
   "execution_count": 10,
   "metadata": {
    "collapsed": false
   },
   "outputs": [
    {
     "data": {
      "text/plain": [
       "ValueIterator for a Dict{String,Any} with 1 entry. Values:\n",
       "  [\"count\"=>1,\"created\"=>\"2015-06-12T17:05:40Z\",\"lang\"=>\"en-US\",\"results\"=>[\"qu…"
      ]
     },
     "execution_count": 10,
     "metadata": {},
     "output_type": "execute_result"
    }
   ],
   "source": [
    "va"
   ]
  },
  {
   "cell_type": "code",
   "execution_count": 13,
   "metadata": {
    "collapsed": false
   },
   "outputs": [
    {
     "ename": "LoadError",
     "evalue": "`getindex` has no method matching getindex(::ValueIterator{Dict{String,Any}}, ::Int64)\nwhile loading In[13], in expression starting on line 1",
     "output_type": "error",
     "traceback": [
      "`getindex` has no method matching getindex(::ValueIterator{Dict{String,Any}}, ::Int64)\nwhile loading In[13], in expression starting on line 1",
      ""
     ]
    }
   ],
   "source": [
    "va[1]"
   ]
  },
  {
   "cell_type": "code",
   "execution_count": null,
   "metadata": {
    "collapsed": true
   },
   "outputs": [],
   "source": []
  },
  {
   "cell_type": "code",
   "execution_count": null,
   "metadata": {
    "collapsed": true
   },
   "outputs": [],
   "source": []
  }
 ],
 "metadata": {
  "kernelspec": {
   "display_name": "Julia 0.3.5",
   "language": "julia",
   "name": "julia-0.3"
  },
  "language_info": {
   "name": "julia",
   "version": "0.3.5"
  }
 },
 "nbformat": 4,
 "nbformat_minor": 0
}
