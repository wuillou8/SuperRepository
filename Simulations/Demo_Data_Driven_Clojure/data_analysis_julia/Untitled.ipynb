{
 "cells": [
  {
   "cell_type": "code",
   "execution_count": 3,
   "metadata": {
    "collapsed": false
   },
   "outputs": [
    {
     "name": "stderr",
     "output_type": "stream",
     "text": [
      "INFO: Nothing to be done\n",
      "INFO: METADATA is out-of-date — you may not have the latest version of Rif\n",
      "INFO: Use `Pkg.update()` to get the latest versions of your packages\n",
      "INFO: Updating METADATA...\n",
      "INFO: Updating cache of Graphics...\n",
      "INFO: Updating cache of Docile...\n",
      "INFO: Updating cache of Lazy...\n",
      "INFO: Updating cache of ZMQ...\n",
      "INFO: Updating cache of GraphViz...\n",
      "INFO: Updating cache of DataFrames...\n",
      "INFO: Updating cache of Graphs...\n",
      "INFO: Updating cache of GZip...\n",
      "INFO: Updating cache of LaTeXStrings...\n",
      "INFO: Updating cache of DataArrays...\n",
      "INFO: Updating cache of Compat...\n",
      "INFO: Updating cache of DataStructures...\n",
      "INFO: Updating cache of FixedPointNumbers...\n",
      "INFO: Updating cache of JavaCall...\n",
      "INFO: Updating cache of BinDeps...\n",
      "INFO: Updating cache of Nettle...\n",
      "INFO: Updating cache of Homebrew...\n",
      "INFO: Updating cache of JSON...\n",
      "INFO: Updating cache of Color...\n",
      "INFO: Updating cache of PyCall...\n",
      "INFO: Updating cache of StatsBase...\n",
      "INFO: Updating PyCall...\n",
      "INFO: Computing changes...\n",
      "INFO: Cloning cache of StatsFuns from git://github.com/JuliaStats/StatsFuns.jl.git\n",
      "INFO: Upgrading BinDeps: v0.3.12 => v0.3.14\n",
      "INFO: Upgrading Color: v0.4.5 => v0.4.7\n",
      "INFO: Upgrading Compat: v0.4.5 => v0.4.13\n",
      "INFO: Upgrading DataArrays: v0.2.15 => v0.2.17\n",
      "INFO: Upgrading DataFrames: v0.6.6 => v0.6.8\n",
      "INFO: Upgrading DataStructures: v0.3.9 => v0.3.11\n",
      "INFO: Upgrading Docile: v0.5.6 => v0.5.14\n",
      "INFO: Upgrading FixedPointNumbers: v0.0.7 => v0.0.9\n",
      "INFO: Upgrading GZip: v0.2.15 => v0.2.17\n",
      "INFO: Upgrading GraphViz: v0.0.3 => v0.0.4\n",
      "INFO: Upgrading Graphs: v0.5.4 => v0.5.5\n",
      "INFO: Upgrading Homebrew: v0.1.14 => v0.1.16\n",
      "INFO: Upgrading JSON: v0.4.3 => v0.4.4\n",
      "INFO: Upgrading LaTeXStrings: v0.1.3 => v0.1.4\n",
      "INFO: Upgrading Lazy: v0.8.4 => v0.9.1\n",
      "INFO: Upgrading Nettle: v0.1.8 => v0.1.10\n",
      "INFO: Upgrading StatsBase: v0.6.15 => v0.7.0\n",
      "INFO: Installing StatsFuns v0.1.1\n",
      "INFO: Upgrading ZMQ: v0.1.18 => v0.1.20\n",
      "INFO: Building GraphViz\n",
      "INFO: Building Homebrew\n",
      "From https://github.com/Homebrew/homebrew\n",
      "   ee51200..ec4045d  master     -> origin/master\n"
     ]
    },
    {
     "name": "stdout",
     "output_type": "stream",
     "text": [
      "HEAD is now at ec4045d socat: better test\n"
     ]
    },
    {
     "name": "stderr",
     "output_type": "stream",
     "text": [
      "From https://github.com/staticfloat/homebrew-juliadeps\n",
      "   500ee75..e641aa5  master     -> origin/master\n"
     ]
    },
    {
     "name": "stdout",
     "output_type": "stream",
     "text": [
      "HEAD is now at e641aa5 Bottle Ipopt for new libgfortran changes\n"
     ]
    },
    {
     "name": "stderr",
     "output_type": "stream",
     "text": [
      "   01045db..70d112c  staging    -> origin/staging\n"
     ]
    },
    {
     "name": "stdout",
     "output_type": "stream",
     "text": [
      "Uninstalling libpng... (17 files, 1.2M)\n",
      "==> Downloading https://homebrew.bintray.com/bottles/libpng-1.6.18.yosemite.bottle.tar.gz\n",
      "==> Pouring libpng-1.6.18.yosemite.bottle.tar.gz\n",
      "🍺  /Users/jairwuiloud/.julia/v0.3/Homebrew/deps/usr/Cellar/libpng/1.6.18: 17 files, 1.2M\n",
      "To relink: brew unlink libpng && brew link libpng\n"
     ]
    },
    {
     "name": "stderr",
     "output_type": "stream",
     "text": [
      "INFO: Building Nettle\n",
      "INFO: Building ZMQ\n"
     ]
    }
   ],
   "source": [
    "Pkg.add(\"Rif\")\n",
    "Pkg.update()\n"
   ]
  },
  {
   "cell_type": "code",
   "execution_count": 6,
   "metadata": {
    "collapsed": false
   },
   "outputs": [],
   "source": [
    "using Rif\n",
    "#Rif.initr()\n"
   ]
  },
  {
   "cell_type": "code",
   "execution_count": 8,
   "metadata": {
    "collapsed": false
   },
   "outputs": [
    {
     "ename": "LoadError",
     "evalue": "initr not defined\nwhile loading In[8], in expression starting on line 1",
     "output_type": "error",
     "traceback": [
      "initr not defined\nwhile loading In[8], in expression starting on line 1",
      ""
     ]
    }
   ],
   "source": [
    "Rif.initr()"
   ]
  },
  {
   "cell_type": "code",
   "execution_count": 9,
   "metadata": {
    "collapsed": false
   },
   "outputs": [
    {
     "ename": "LoadError",
     "evalue": "setinitargs not defined\nwhile loading In[9], in expression starting on line 4",
     "output_type": "error",
     "traceback": [
      "setinitargs not defined\nwhile loading In[9], in expression starting on line 4",
      ""
     ]
    }
   ],
   "source": [
    "# set initialization parameters for the embedded R\n",
    "argv = [\"Julia-R\", \"--slave\"]\n",
    "# set the parameters\n",
    "Rif.setinitargs(argv)\n",
    "# initialize embedded R\n",
    "Rif.initr()"
   ]
  },
  {
   "cell_type": "code",
   "execution_count": null,
   "metadata": {
    "collapsed": true
   },
   "outputs": [],
   "source": []
  }
 ],
 "metadata": {
  "kernelspec": {
   "display_name": "Julia 0.3.5",
   "language": "julia",
   "name": "julia-0.3"
  },
  "language_info": {
   "name": "julia",
   "version": "0.3.5"
  }
 },
 "nbformat": 4,
 "nbformat_minor": 0
}
